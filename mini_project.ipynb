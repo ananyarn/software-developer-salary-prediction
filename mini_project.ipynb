{
 "cells": [
  {
   "cell_type": "code",
   "execution_count": 1,
   "id": "a0045db2",
   "metadata": {},
   "outputs": [],
   "source": [
    "import pandas as pd\n",
    "import matplotlib.pyplot as plt\n",
    "import numpy as np\n",
    "\n",
    "df = pd.read_csv(\"survey_results_public.csv\")"
   ]
  },
  {
   "cell_type": "code",
   "execution_count": 2,
   "id": "116ad674",
   "metadata": {},
   "outputs": [],
   "source": [
    "relevant_columns = ['Age', 'Age1stCode', 'CompFreq', 'ConvertedComp', \n",
    "                    'Country', 'EdLevel', 'Employment', 'Gender',\n",
    "                   'LanguageWorkedWith', 'LanguageDesireNextYear', 'MiscTechWorkedWith', \n",
    "                    'MiscTechDesireNextYear', 'UndergradMajor', 'YearsCode']"
   ]
  },
  {
   "cell_type": "code",
   "execution_count": 3,
   "id": "77a47c0b",
   "metadata": {},
   "outputs": [],
   "source": [
    "df = df[relevant_columns]"
   ]
  },
  {
   "cell_type": "code",
   "execution_count": 4,
   "id": "0499169e",
   "metadata": {},
   "outputs": [],
   "source": [
    "df = df.dropna()"
   ]
  },
  {
   "cell_type": "code",
   "execution_count": 5,
   "id": "3a270a6d",
   "metadata": {},
   "outputs": [],
   "source": [
    "df = df.rename({\"ConvertedComp\": \"Salary\"}, axis=1)"
   ]
  },
  {
   "cell_type": "code",
   "execution_count": 6,
   "id": "03e5d5e4",
   "metadata": {},
   "outputs": [
    {
     "data": {
      "text/html": [
       "<div>\n",
       "<style scoped>\n",
       "    .dataframe tbody tr th:only-of-type {\n",
       "        vertical-align: middle;\n",
       "    }\n",
       "\n",
       "    .dataframe tbody tr th {\n",
       "        vertical-align: top;\n",
       "    }\n",
       "\n",
       "    .dataframe thead th {\n",
       "        text-align: right;\n",
       "    }\n",
       "</style>\n",
       "<table border=\"1\" class=\"dataframe\">\n",
       "  <thead>\n",
       "    <tr style=\"text-align: right;\">\n",
       "      <th></th>\n",
       "      <th>Age</th>\n",
       "      <th>Age1stCode</th>\n",
       "      <th>CompFreq</th>\n",
       "      <th>Salary</th>\n",
       "      <th>Country</th>\n",
       "      <th>EdLevel</th>\n",
       "      <th>Employment</th>\n",
       "      <th>Gender</th>\n",
       "      <th>LanguageWorkedWith</th>\n",
       "      <th>LanguageDesireNextYear</th>\n",
       "      <th>MiscTechWorkedWith</th>\n",
       "      <th>MiscTechDesireNextYear</th>\n",
       "      <th>UndergradMajor</th>\n",
       "      <th>YearsCode</th>\n",
       "    </tr>\n",
       "  </thead>\n",
       "  <tbody>\n",
       "    <tr>\n",
       "      <th>7</th>\n",
       "      <td>36.0</td>\n",
       "      <td>12</td>\n",
       "      <td>Yearly</td>\n",
       "      <td>116000.0</td>\n",
       "      <td>United States</td>\n",
       "      <td>Bachelor’s degree (B.A., B.S., B.Eng., etc.)</td>\n",
       "      <td>Employed full-time</td>\n",
       "      <td>Man</td>\n",
       "      <td>Python;SQL</td>\n",
       "      <td>JavaScript</td>\n",
       "      <td>Ansible</td>\n",
       "      <td>Unity 3D</td>\n",
       "      <td>Computer science, computer engineering, or sof...</td>\n",
       "      <td>17</td>\n",
       "    </tr>\n",
       "    <tr>\n",
       "      <th>9</th>\n",
       "      <td>22.0</td>\n",
       "      <td>14</td>\n",
       "      <td>Yearly</td>\n",
       "      <td>32315.0</td>\n",
       "      <td>United Kingdom</td>\n",
       "      <td>Master’s degree (M.A., M.S., M.Eng., MBA, etc.)</td>\n",
       "      <td>Employed full-time</td>\n",
       "      <td>Man</td>\n",
       "      <td>HTML/CSS;Java;JavaScript;Python;SQL</td>\n",
       "      <td>HTML/CSS;Java;JavaScript;Python;R;SQL</td>\n",
       "      <td>Pandas</td>\n",
       "      <td>Pandas;TensorFlow</td>\n",
       "      <td>Mathematics or statistics</td>\n",
       "      <td>8</td>\n",
       "    </tr>\n",
       "    <tr>\n",
       "      <th>10</th>\n",
       "      <td>23.0</td>\n",
       "      <td>13</td>\n",
       "      <td>Yearly</td>\n",
       "      <td>40070.0</td>\n",
       "      <td>United Kingdom</td>\n",
       "      <td>Bachelor’s degree (B.A., B.S., B.Eng., etc.)</td>\n",
       "      <td>Employed full-time</td>\n",
       "      <td>Man</td>\n",
       "      <td>C#;JavaScript;Swift</td>\n",
       "      <td>Go;JavaScript;Swift;TypeScript</td>\n",
       "      <td>Node.js</td>\n",
       "      <td>Node.js;React Native</td>\n",
       "      <td>Computer science, computer engineering, or sof...</td>\n",
       "      <td>10</td>\n",
       "    </tr>\n",
       "    <tr>\n",
       "      <th>11</th>\n",
       "      <td>49.0</td>\n",
       "      <td>42</td>\n",
       "      <td>Monthly</td>\n",
       "      <td>14268.0</td>\n",
       "      <td>Spain</td>\n",
       "      <td>Some college/university study without earning ...</td>\n",
       "      <td>Employed full-time</td>\n",
       "      <td>Man</td>\n",
       "      <td>HTML/CSS;JavaScript</td>\n",
       "      <td>HTML/CSS;JavaScript</td>\n",
       "      <td>.NET</td>\n",
       "      <td>.NET</td>\n",
       "      <td>Mathematics or statistics</td>\n",
       "      <td>7</td>\n",
       "    </tr>\n",
       "    <tr>\n",
       "      <th>13</th>\n",
       "      <td>27.0</td>\n",
       "      <td>13</td>\n",
       "      <td>Yearly</td>\n",
       "      <td>66000.0</td>\n",
       "      <td>United States</td>\n",
       "      <td>Associate degree (A.A., A.S., etc.)</td>\n",
       "      <td>Employed full-time</td>\n",
       "      <td>Man</td>\n",
       "      <td>HTML/CSS;JavaScript;SQL;TypeScript</td>\n",
       "      <td>HTML/CSS;JavaScript;SQL;TypeScript</td>\n",
       "      <td>Node.js</td>\n",
       "      <td>Node.js</td>\n",
       "      <td>Computer science, computer engineering, or sof...</td>\n",
       "      <td>5</td>\n",
       "    </tr>\n",
       "  </tbody>\n",
       "</table>\n",
       "</div>"
      ],
      "text/plain": [
       "     Age Age1stCode CompFreq    Salary         Country  \\\n",
       "7   36.0         12   Yearly  116000.0   United States   \n",
       "9   22.0         14   Yearly   32315.0  United Kingdom   \n",
       "10  23.0         13   Yearly   40070.0  United Kingdom   \n",
       "11  49.0         42  Monthly   14268.0           Spain   \n",
       "13  27.0         13   Yearly   66000.0   United States   \n",
       "\n",
       "                                              EdLevel          Employment  \\\n",
       "7        Bachelor’s degree (B.A., B.S., B.Eng., etc.)  Employed full-time   \n",
       "9     Master’s degree (M.A., M.S., M.Eng., MBA, etc.)  Employed full-time   \n",
       "10       Bachelor’s degree (B.A., B.S., B.Eng., etc.)  Employed full-time   \n",
       "11  Some college/university study without earning ...  Employed full-time   \n",
       "13                Associate degree (A.A., A.S., etc.)  Employed full-time   \n",
       "\n",
       "   Gender                   LanguageWorkedWith  \\\n",
       "7     Man                           Python;SQL   \n",
       "9     Man  HTML/CSS;Java;JavaScript;Python;SQL   \n",
       "10    Man                  C#;JavaScript;Swift   \n",
       "11    Man                  HTML/CSS;JavaScript   \n",
       "13    Man   HTML/CSS;JavaScript;SQL;TypeScript   \n",
       "\n",
       "                   LanguageDesireNextYear MiscTechWorkedWith  \\\n",
       "7                              JavaScript            Ansible   \n",
       "9   HTML/CSS;Java;JavaScript;Python;R;SQL             Pandas   \n",
       "10         Go;JavaScript;Swift;TypeScript            Node.js   \n",
       "11                    HTML/CSS;JavaScript               .NET   \n",
       "13     HTML/CSS;JavaScript;SQL;TypeScript            Node.js   \n",
       "\n",
       "   MiscTechDesireNextYear                                     UndergradMajor  \\\n",
       "7                Unity 3D  Computer science, computer engineering, or sof...   \n",
       "9       Pandas;TensorFlow                          Mathematics or statistics   \n",
       "10   Node.js;React Native  Computer science, computer engineering, or sof...   \n",
       "11                   .NET                          Mathematics or statistics   \n",
       "13                Node.js  Computer science, computer engineering, or sof...   \n",
       "\n",
       "   YearsCode  \n",
       "7         17  \n",
       "9          8  \n",
       "10        10  \n",
       "11         7  \n",
       "13         5  "
      ]
     },
     "execution_count": 6,
     "metadata": {},
     "output_type": "execute_result"
    }
   ],
   "source": [
    "df = df[df[\"Salary\"].notnull()]\n",
    "df.head()"
   ]
  },
  {
   "cell_type": "code",
   "execution_count": 7,
   "id": "8c376bd6",
   "metadata": {},
   "outputs": [],
   "source": [
    "def shorten_categories(categories, cutoff):\n",
    "    categorical_map = {}\n",
    "    for i in range(len(categories)):\n",
    "        if categories.values[i] >= cutoff:\n",
    "            categorical_map[categories.index[i]] = categories.index[i]\n",
    "        else:\n",
    "            categorical_map[categories.index[i]] = 'Other'\n",
    "    return categorical_map"
   ]
  },
  {
   "cell_type": "code",
   "execution_count": 8,
   "id": "f41bd64d",
   "metadata": {},
   "outputs": [
    {
     "data": {
      "text/plain": [
       "Other             6916\n",
       "United States     4331\n",
       "United Kingdom    1353\n",
       "India             1229\n",
       "Germany           1060\n",
       "Canada             699\n",
       "Brazil             638\n",
       "France             582\n",
       "Netherlands        424\n",
       "Australia          419\n",
       "Name: Country, dtype: int64"
      ]
     },
     "execution_count": 8,
     "metadata": {},
     "output_type": "execute_result"
    }
   ],
   "source": [
    "country_map = shorten_categories(df.Country.value_counts(), 400)\n",
    "df['Country'] = df['Country'].map(country_map)\n",
    "df.Country.value_counts()"
   ]
  },
  {
   "cell_type": "code",
   "execution_count": 9,
   "id": "aaaceb2d",
   "metadata": {},
   "outputs": [],
   "source": [
    "def clean_education(x):\n",
    "    if 'Bachelor’s degree' in x:\n",
    "        return 'Bachelor’s degree'\n",
    "    if 'Master’s degree' in x:\n",
    "        return 'Master’s degree'\n",
    "    if 'Professional degree' in x or 'Other doctoral' in x:\n",
    "        return 'Post grad'\n",
    "    return 'Less than a Bachelors'\n",
    "\n",
    "df['EdLevel'] = df['EdLevel'].apply(clean_education)"
   ]
  },
  {
   "cell_type": "code",
   "execution_count": 10,
   "id": "dd1e9fb3",
   "metadata": {},
   "outputs": [],
   "source": [
    "def clean_gender(x):\n",
    "    if x == 'Man':\n",
    "        return 'Man'\n",
    "    if x == 'Woman':\n",
    "        return 'Woman'\n",
    "    return 'Other'\n",
    "\n",
    "df['Gender'] = df['Gender'].apply(clean_gender)"
   ]
  },
  {
   "cell_type": "code",
   "execution_count": 11,
   "id": "70d24ffb",
   "metadata": {},
   "outputs": [],
   "source": [
    "def clean_undergradmajor(x):\n",
    "    if 'Computer science' in x:\n",
    "        return 'Computer science'\n",
    "    if 'natural science' in x:\n",
    "        return 'Natural science'\n",
    "    if 'information technology' in x:\n",
    "        return 'Information technology'\n",
    "    if 'humanities' in x:\n",
    "        return 'Humanities'\n",
    "    if 'social science' in x :\n",
    "        return \"Social science\"\n",
    "    if 'Web development' in x:\n",
    "        return 'Web development'\n",
    "    if 'Another engineering discipline' in x:\n",
    "        return 'Another engineering discipline'\n",
    "    if 'never' in x:\n",
    "        return \"No major\"\n",
    "    if 'business' in x:\n",
    "        return \"business\"\n",
    "    if 'health science' in x:\n",
    "        return \"Health science\"\n",
    "    if 'Fine arts' in x:\n",
    "        return \"Fine arts\"\n",
    "    return x\n",
    "\n",
    "df[\"UndergradMajor\"] = df[\"UndergradMajor\"].apply(clean_undergradmajor)"
   ]
  },
  {
   "cell_type": "code",
   "execution_count": 12,
   "id": "63710ec6",
   "metadata": {},
   "outputs": [],
   "source": [
    "def clean_language_worked_with(i):\n",
    "    if \";\" in i:\n",
    "        k = i.index(\";\")\n",
    "        j = i[:k]\n",
    "        return j\n",
    "    else:\n",
    "        return i\n",
    "    \n",
    "df[\"LanguageWorkedWith\"] = df[\"LanguageWorkedWith\"].apply(clean_language_worked_with)"
   ]
  },
  {
   "cell_type": "code",
   "execution_count": 13,
   "id": "78d903b1",
   "metadata": {},
   "outputs": [],
   "source": [
    "def desired_language(i):\n",
    "    if \";\" in i:\n",
    "        k = i.index(\";\")\n",
    "        j = i[:k]\n",
    "        return j\n",
    "    else:\n",
    "        return i\n",
    "    \n",
    "df[\"LanguageDesireNextYear\"] = df[\"LanguageDesireNextYear\"].apply(desired_language)"
   ]
  },
  {
   "cell_type": "code",
   "execution_count": 14,
   "id": "fda38f2f",
   "metadata": {},
   "outputs": [],
   "source": [
    "def misc_clean(i):\n",
    "    if \";\" in i:\n",
    "        k = i.index(\";\")\n",
    "        j = i[:k]\n",
    "        return j\n",
    "    else:\n",
    "        return i\n",
    "    \n",
    "df[\"MiscTechWorkedWith\"] = df[\"MiscTechWorkedWith\"].apply(misc_clean)"
   ]
  },
  {
   "cell_type": "code",
   "execution_count": 15,
   "id": "a1c9fda7",
   "metadata": {},
   "outputs": [],
   "source": [
    "def desired_misc_clean(i):\n",
    "    if \";\" in i:\n",
    "        k = i.index(\";\")\n",
    "        j = i[:k]\n",
    "        return j\n",
    "    else:\n",
    "        return i\n",
    "    \n",
    "df[\"MiscTechDesireNextYear\"] = df[\"MiscTechDesireNextYear\"].apply(desired_misc_clean)"
   ]
  },
  {
   "cell_type": "code",
   "execution_count": 16,
   "id": "746bc050",
   "metadata": {},
   "outputs": [],
   "source": [
    "from sklearn.preprocessing import LabelEncoder"
   ]
  },
  {
   "cell_type": "code",
   "execution_count": 17,
   "id": "e385f7e4",
   "metadata": {},
   "outputs": [
    {
     "data": {
      "text/plain": [
       "array([24,  6,  8, 37, 13, 11, 10, 27, 22, 23, 20, 42, 32, 26, 36, 15, 18,\n",
       "        5, 16, 30, 33, 17, 12, 25, 21, 28, 31, 29, 51, 41, 34, 38, 45, 35,\n",
       "        3, 39,  4, 40, 59, 43, 44, 46, 52, 48, 49, 53, 54, 47, 64, 62, 61,\n",
       "       58, 50,  1, 57, 55,  9, 60, 63, 65,  7,  2, 14,  0, 56, 19],\n",
       "      dtype=int64)"
      ]
     },
     "execution_count": 17,
     "metadata": {},
     "output_type": "execute_result"
    }
   ],
   "source": [
    "le_age = LabelEncoder()\n",
    "df['Age'] = le_age.fit_transform(df['Age'])\n",
    "df['Age'].unique()"
   ]
  },
  {
   "cell_type": "code",
   "execution_count": 18,
   "id": "a10f9130",
   "metadata": {},
   "outputs": [
    {
     "data": {
      "text/plain": [
       "array([ 2,  4,  3, 32,  5, 20,  0, 39,  1, 11,  6,  8,  7, 15, 40, 41,  9,\n",
       "       13, 37, 38, 31, 25, 17, 10, 36, 16, 19, 26, 12, 18, 14, 22, 29, 21,\n",
       "       23, 30, 35, 27, 28, 24, 33, 34])"
      ]
     },
     "execution_count": 18,
     "metadata": {},
     "output_type": "execute_result"
    }
   ],
   "source": [
    "le_age1 = LabelEncoder()\n",
    "df['Age1stCode'] = le_age1.fit_transform(df['Age1stCode'])\n",
    "df['Age1stCode'].unique()"
   ]
  },
  {
   "cell_type": "code",
   "execution_count": 19,
   "id": "92c5167d",
   "metadata": {},
   "outputs": [
    {
     "data": {
      "text/plain": [
       "array([2, 0, 1])"
      ]
     },
     "execution_count": 19,
     "metadata": {},
     "output_type": "execute_result"
    }
   ],
   "source": [
    "le_freq = LabelEncoder()\n",
    "df['CompFreq'] = le_freq.fit_transform(df['CompFreq'])\n",
    "df['CompFreq'].unique()"
   ]
  },
  {
   "cell_type": "code",
   "execution_count": 20,
   "id": "286bc324",
   "metadata": {},
   "outputs": [
    {
     "data": {
      "text/plain": [
       "array([9, 8, 7, 3, 1, 2, 4, 6, 5, 0])"
      ]
     },
     "execution_count": 20,
     "metadata": {},
     "output_type": "execute_result"
    }
   ],
   "source": [
    "le_country = LabelEncoder()\n",
    "df['Country'] = le_country.fit_transform(df['Country'])\n",
    "df['Country'].unique()"
   ]
  },
  {
   "cell_type": "code",
   "execution_count": 21,
   "id": "bef16b81",
   "metadata": {},
   "outputs": [
    {
     "data": {
      "text/plain": [
       "array([0, 2, 1, 3])"
      ]
     },
     "execution_count": 21,
     "metadata": {},
     "output_type": "execute_result"
    }
   ],
   "source": [
    "le_ed = LabelEncoder()\n",
    "df['EdLevel'] = le_ed.fit_transform(df['EdLevel'])\n",
    "df['EdLevel'].unique()"
   ]
  },
  {
   "cell_type": "code",
   "execution_count": 22,
   "id": "e6a52504",
   "metadata": {},
   "outputs": [
    {
     "data": {
      "text/plain": [
       "array([0, 2, 1])"
      ]
     },
     "execution_count": 22,
     "metadata": {},
     "output_type": "execute_result"
    }
   ],
   "source": [
    "le_employ = LabelEncoder()\n",
    "df['Employment'] = le_employ.fit_transform(df['Employment'])\n",
    "df['Employment'].unique()"
   ]
  },
  {
   "cell_type": "code",
   "execution_count": 23,
   "id": "c191d60f",
   "metadata": {},
   "outputs": [
    {
     "data": {
      "text/plain": [
       "array([0, 2, 1])"
      ]
     },
     "execution_count": 23,
     "metadata": {},
     "output_type": "execute_result"
    }
   ],
   "source": [
    "le_gender = LabelEncoder()\n",
    "df['Gender'] = le_gender.fit_transform(df['Gender'])\n",
    "df['Gender'].unique()"
   ]
  },
  {
   "cell_type": "code",
   "execution_count": 24,
   "id": "1cd91207",
   "metadata": {},
   "outputs": [
    {
     "data": {
      "text/plain": [
       "array([15,  7,  3,  1,  0,  6, 10,  2,  4,  9, 22,  5, 20, 16, 13, 14, 12,\n",
       "        8, 11, 19, 17, 21, 18])"
      ]
     },
     "execution_count": 24,
     "metadata": {},
     "output_type": "execute_result"
    }
   ],
   "source": [
    "le_lww = LabelEncoder()\n",
    "df['LanguageWorkedWith'] = le_lww.fit_transform(df['LanguageWorkedWith'])\n",
    "df['LanguageWorkedWith'].unique()"
   ]
  },
  {
   "cell_type": "code",
   "execution_count": 25,
   "id": "f6e35093",
   "metadata": {},
   "outputs": [
    {
     "data": {
      "text/plain": [
       "array([10,  7,  6,  3,  1, 16, 12,  0,  2,  5,  8, 11,  4, 23,  9, 19, 13,\n",
       "       21, 18, 17, 20, 22, 24, 14, 15])"
      ]
     },
     "execution_count": 25,
     "metadata": {},
     "output_type": "execute_result"
    }
   ],
   "source": [
    "le_ld = LabelEncoder()\n",
    "df['LanguageDesireNextYear'] = le_ld.fit_transform(df['LanguageDesireNextYear'])\n",
    "df['LanguageDesireNextYear'].unique()"
   ]
  },
  {
   "cell_type": "code",
   "execution_count": 26,
   "id": "ab988168",
   "metadata": {},
   "outputs": [
    {
     "data": {
      "text/plain": [
       "array([ 2, 10,  9,  0,  8,  1,  7,  3, 16,  5,  6, 14, 12,  4, 17, 13, 11,\n",
       "       18, 15])"
      ]
     },
     "execution_count": 26,
     "metadata": {},
     "output_type": "execute_result"
    }
   ],
   "source": [
    "le_mt = LabelEncoder()\n",
    "df['MiscTechWorkedWith'] = le_mt.fit_transform(df['MiscTechWorkedWith'])\n",
    "df['MiscTechWorkedWith'].unique()"
   ]
  },
  {
   "cell_type": "code",
   "execution_count": 27,
   "id": "871efa4f",
   "metadata": {},
   "outputs": [
    {
     "data": {
      "text/plain": [
       "array([ 8, 48,  1, 47, 44, 49, 12, 33,  7, 46, 37, 26, 16, 13,  4, 30, 10,\n",
       "       22, 19, 23,  2,  6,  5, 14, 20,  9, 38, 17,  3, 34, 36, 11, 27, 25,\n",
       "        0, 28, 15, 18, 29, 31, 21, 51, 24, 41, 32, 35, 42, 50, 39, 43, 45,\n",
       "       40])"
      ]
     },
     "execution_count": 27,
     "metadata": {},
     "output_type": "execute_result"
    }
   ],
   "source": [
    "le_mtd = LabelEncoder()\n",
    "df['MiscTechDesireNextYear'] = le_mtd.fit_transform(df['MiscTechDesireNextYear'])\n",
    "df['MiscTechDesireNextYear'].unique()\n",
    "le_ug = LabelEncoder()\n",
    "df['UndergradMajor'] = le_ug.fit_transform(df['UndergradMajor'])\n",
    "df['UndergradMajor'].unique()\n",
    "le_years = LabelEncoder()\n",
    "df['YearsCode'] = le_years.fit_transform(df['YearsCode'])\n",
    "df['YearsCode'].unique()"
   ]
  },
  {
   "cell_type": "code",
   "execution_count": 28,
   "id": "bef8adbe",
   "metadata": {},
   "outputs": [],
   "source": [
    "attributes_matrix = df.drop('Salary', axis=1).values"
   ]
  },
  {
   "cell_type": "code",
   "execution_count": 29,
   "id": "e6c8e028",
   "metadata": {},
   "outputs": [
    {
     "name": "stdout",
     "output_type": "stream",
     "text": [
      "Column number: 3\n"
     ]
    }
   ],
   "source": [
    "column_name = 'Salary'\n",
    "column_number = df.columns.get_loc(column_name)\n",
    "print(\"Column number:\", column_number)"
   ]
  },
  {
   "cell_type": "code",
   "execution_count": 30,
   "id": "2cea5d76",
   "metadata": {},
   "outputs": [],
   "source": [
    "decision_attribute = 3"
   ]
  },
  {
   "cell_type": "code",
   "execution_count": 31,
   "id": "a4540c74",
   "metadata": {},
   "outputs": [
    {
     "name": "stdout",
     "output_type": "stream",
     "text": [
      "(17651, 13)\n"
     ]
    }
   ],
   "source": [
    "print(attributes_matrix.shape)"
   ]
  },
  {
   "cell_type": "code",
   "execution_count": 32,
   "id": "f45ee007",
   "metadata": {},
   "outputs": [
    {
     "data": {
      "text/plain": [
       "array([[24,  2,  2, ..., 16,  1,  8],\n",
       "       [ 6,  4,  2, ..., 10,  6, 48],\n",
       "       [ 8,  3,  2, ...,  9,  1,  1],\n",
       "       ...,\n",
       "       [20,  2,  2, ..., 13,  1, 10],\n",
       "       [21,  3,  2, ...,  9,  1, 12],\n",
       "       [ 6,  7,  0, ...,  5,  1, 44]], dtype=int64)"
      ]
     },
     "execution_count": 32,
     "metadata": {},
     "output_type": "execute_result"
    }
   ],
   "source": [
    "attributes_matrix"
   ]
  },
  {
   "cell_type": "code",
   "execution_count": 33,
   "id": "2296d573",
   "metadata": {},
   "outputs": [
    {
     "name": "stdout",
     "output_type": "stream",
     "text": [
      "Reduct: {0, 1, 2, 3, 4, 5, 6, 7, 8, 9, 10, 11, 12}\n"
     ]
    }
   ],
   "source": [
    "def fuzzy_similarity(x, y):\n",
    "    distance = np.linalg.norm(x - y)  # Calculate the Euclidean distance\n",
    "    similarity = 1 / (1 + distance)  # Calculate the fuzzy similarity\n",
    "    return similarity\n",
    "\n",
    "def calculate_positive_region(attributes, decision_attribute):\n",
    "    positive_region = set()\n",
    "\n",
    "    for obj in attributes:\n",
    "        if obj[decision_attribute] > 104141.83:\n",
    "            positive_region.add(tuple(obj))\n",
    "    \n",
    "    return positive_region\n",
    "\n",
    "def calculate_significance(attributes, positive_region, attribute):\n",
    "    significance = 0\n",
    "\n",
    "    for obj in positive_region:\n",
    "        # Calculate the similarity between obj and attribute using fuzzy_similarity\n",
    "        similarity = fuzzy_similarity(obj, attribute)\n",
    "        significance += similarity\n",
    "    \n",
    "    return significance\n",
    "\n",
    "def quick_reduct_fuzzy(attributes, decision_attribute):\n",
    "    reduct = set()  # Initialize an empty set for the reduct\n",
    "    positive_region = calculate_positive_region(attributes, decision_attribute)\n",
    "    candidate = set(range(len(attributes[0])))  # Initialize the Candidate set with all attributes\n",
    "    \n",
    "    while candidate:\n",
    "        max_significance = -1\n",
    "        max_attribute = None\n",
    "        \n",
    "        for attr in candidate:\n",
    "            temp_reduct = reduct | {attr}\n",
    "            temp_significance = calculate_significance(attributes, positive_region, attributes[:, attr])\n",
    "            \n",
    "            if temp_significance > max_significance:\n",
    "                max_significance = temp_significance\n",
    "                max_attribute = attr\n",
    "        \n",
    "        if max_attribute is not None:\n",
    "            reduct.add(max_attribute)\n",
    "            candidate.remove(max_attribute)\n",
    "    \n",
    "    return reduct\n",
    "\n",
    "reduct = quick_reduct_fuzzy(attributes_matrix, decision_attribute)\n",
    "print(\"Reduct:\", reduct)"
   ]
  },
  {
   "cell_type": "code",
   "execution_count": 34,
   "id": "e39805af",
   "metadata": {},
   "outputs": [
    {
     "name": "stdout",
     "output_type": "stream",
     "text": [
      "Reduct Column Names: Index(['Age', 'Age1stCode', 'CompFreq', 'Salary', 'Country', 'EdLevel',\n",
      "       'Employment', 'Gender', 'LanguageWorkedWith', 'LanguageDesireNextYear',\n",
      "       'MiscTechWorkedWith', 'MiscTechDesireNextYear', 'UndergradMajor'],\n",
      "      dtype='object')\n"
     ]
    }
   ],
   "source": [
    "r = list(reduct)\n",
    "reduct_column_names = df.columns[r]\n",
    "print(\"Reduct Column Names:\", reduct_column_names)"
   ]
  },
  {
   "cell_type": "code",
   "execution_count": 35,
   "id": "9bf7ec50",
   "metadata": {},
   "outputs": [],
   "source": [
    "df = df.drop(\"YearsCode\", axis = 1)"
   ]
  },
  {
   "cell_type": "code",
   "execution_count": 36,
   "id": "2c413c12",
   "metadata": {},
   "outputs": [],
   "source": [
    "x = df.drop(\"Salary\", axis = 1)\n",
    "y = df[\"Salary\"]"
   ]
  },
  {
   "cell_type": "code",
   "execution_count": 37,
   "id": "41e1409a",
   "metadata": {},
   "outputs": [
    {
     "data": {
      "text/html": [
       "<div>\n",
       "<style scoped>\n",
       "    .dataframe tbody tr th:only-of-type {\n",
       "        vertical-align: middle;\n",
       "    }\n",
       "\n",
       "    .dataframe tbody tr th {\n",
       "        vertical-align: top;\n",
       "    }\n",
       "\n",
       "    .dataframe thead th {\n",
       "        text-align: right;\n",
       "    }\n",
       "</style>\n",
       "<table border=\"1\" class=\"dataframe\">\n",
       "  <thead>\n",
       "    <tr style=\"text-align: right;\">\n",
       "      <th></th>\n",
       "      <th>Age</th>\n",
       "      <th>Age1stCode</th>\n",
       "      <th>CompFreq</th>\n",
       "      <th>Country</th>\n",
       "      <th>EdLevel</th>\n",
       "      <th>Employment</th>\n",
       "      <th>Gender</th>\n",
       "      <th>LanguageWorkedWith</th>\n",
       "      <th>LanguageDesireNextYear</th>\n",
       "      <th>MiscTechWorkedWith</th>\n",
       "      <th>MiscTechDesireNextYear</th>\n",
       "      <th>UndergradMajor</th>\n",
       "    </tr>\n",
       "  </thead>\n",
       "  <tbody>\n",
       "    <tr>\n",
       "      <th>7</th>\n",
       "      <td>24</td>\n",
       "      <td>2</td>\n",
       "      <td>2</td>\n",
       "      <td>9</td>\n",
       "      <td>0</td>\n",
       "      <td>0</td>\n",
       "      <td>0</td>\n",
       "      <td>15</td>\n",
       "      <td>10</td>\n",
       "      <td>2</td>\n",
       "      <td>16</td>\n",
       "      <td>1</td>\n",
       "    </tr>\n",
       "    <tr>\n",
       "      <th>9</th>\n",
       "      <td>6</td>\n",
       "      <td>4</td>\n",
       "      <td>2</td>\n",
       "      <td>8</td>\n",
       "      <td>2</td>\n",
       "      <td>0</td>\n",
       "      <td>0</td>\n",
       "      <td>7</td>\n",
       "      <td>7</td>\n",
       "      <td>10</td>\n",
       "      <td>10</td>\n",
       "      <td>6</td>\n",
       "    </tr>\n",
       "    <tr>\n",
       "      <th>10</th>\n",
       "      <td>8</td>\n",
       "      <td>3</td>\n",
       "      <td>2</td>\n",
       "      <td>8</td>\n",
       "      <td>0</td>\n",
       "      <td>0</td>\n",
       "      <td>0</td>\n",
       "      <td>3</td>\n",
       "      <td>6</td>\n",
       "      <td>9</td>\n",
       "      <td>9</td>\n",
       "      <td>1</td>\n",
       "    </tr>\n",
       "    <tr>\n",
       "      <th>11</th>\n",
       "      <td>37</td>\n",
       "      <td>32</td>\n",
       "      <td>0</td>\n",
       "      <td>7</td>\n",
       "      <td>1</td>\n",
       "      <td>0</td>\n",
       "      <td>0</td>\n",
       "      <td>7</td>\n",
       "      <td>7</td>\n",
       "      <td>0</td>\n",
       "      <td>0</td>\n",
       "      <td>6</td>\n",
       "    </tr>\n",
       "    <tr>\n",
       "      <th>13</th>\n",
       "      <td>13</td>\n",
       "      <td>3</td>\n",
       "      <td>2</td>\n",
       "      <td>9</td>\n",
       "      <td>1</td>\n",
       "      <td>0</td>\n",
       "      <td>0</td>\n",
       "      <td>7</td>\n",
       "      <td>7</td>\n",
       "      <td>9</td>\n",
       "      <td>9</td>\n",
       "      <td>1</td>\n",
       "    </tr>\n",
       "    <tr>\n",
       "      <th>...</th>\n",
       "      <td>...</td>\n",
       "      <td>...</td>\n",
       "      <td>...</td>\n",
       "      <td>...</td>\n",
       "      <td>...</td>\n",
       "      <td>...</td>\n",
       "      <td>...</td>\n",
       "      <td>...</td>\n",
       "      <td>...</td>\n",
       "      <td>...</td>\n",
       "      <td>...</td>\n",
       "      <td>...</td>\n",
       "    </tr>\n",
       "    <tr>\n",
       "      <th>62212</th>\n",
       "      <td>17</td>\n",
       "      <td>11</td>\n",
       "      <td>0</td>\n",
       "      <td>7</td>\n",
       "      <td>0</td>\n",
       "      <td>0</td>\n",
       "      <td>0</td>\n",
       "      <td>3</td>\n",
       "      <td>0</td>\n",
       "      <td>0</td>\n",
       "      <td>0</td>\n",
       "      <td>0</td>\n",
       "    </tr>\n",
       "    <tr>\n",
       "      <th>63083</th>\n",
       "      <td>11</td>\n",
       "      <td>2</td>\n",
       "      <td>0</td>\n",
       "      <td>7</td>\n",
       "      <td>0</td>\n",
       "      <td>2</td>\n",
       "      <td>0</td>\n",
       "      <td>7</td>\n",
       "      <td>7</td>\n",
       "      <td>1</td>\n",
       "      <td>9</td>\n",
       "      <td>1</td>\n",
       "    </tr>\n",
       "    <tr>\n",
       "      <th>63402</th>\n",
       "      <td>20</td>\n",
       "      <td>2</td>\n",
       "      <td>2</td>\n",
       "      <td>9</td>\n",
       "      <td>1</td>\n",
       "      <td>0</td>\n",
       "      <td>0</td>\n",
       "      <td>1</td>\n",
       "      <td>1</td>\n",
       "      <td>1</td>\n",
       "      <td>13</td>\n",
       "      <td>1</td>\n",
       "    </tr>\n",
       "    <tr>\n",
       "      <th>63517</th>\n",
       "      <td>21</td>\n",
       "      <td>3</td>\n",
       "      <td>2</td>\n",
       "      <td>3</td>\n",
       "      <td>3</td>\n",
       "      <td>0</td>\n",
       "      <td>2</td>\n",
       "      <td>0</td>\n",
       "      <td>6</td>\n",
       "      <td>10</td>\n",
       "      <td>9</td>\n",
       "      <td>1</td>\n",
       "    </tr>\n",
       "    <tr>\n",
       "      <th>63955</th>\n",
       "      <td>6</td>\n",
       "      <td>7</td>\n",
       "      <td>0</td>\n",
       "      <td>7</td>\n",
       "      <td>2</td>\n",
       "      <td>0</td>\n",
       "      <td>0</td>\n",
       "      <td>7</td>\n",
       "      <td>23</td>\n",
       "      <td>5</td>\n",
       "      <td>5</td>\n",
       "      <td>1</td>\n",
       "    </tr>\n",
       "  </tbody>\n",
       "</table>\n",
       "<p>17651 rows × 12 columns</p>\n",
       "</div>"
      ],
      "text/plain": [
       "       Age  Age1stCode  CompFreq  Country  EdLevel  Employment  Gender  \\\n",
       "7       24           2         2        9        0           0       0   \n",
       "9        6           4         2        8        2           0       0   \n",
       "10       8           3         2        8        0           0       0   \n",
       "11      37          32         0        7        1           0       0   \n",
       "13      13           3         2        9        1           0       0   \n",
       "...    ...         ...       ...      ...      ...         ...     ...   \n",
       "62212   17          11         0        7        0           0       0   \n",
       "63083   11           2         0        7        0           2       0   \n",
       "63402   20           2         2        9        1           0       0   \n",
       "63517   21           3         2        3        3           0       2   \n",
       "63955    6           7         0        7        2           0       0   \n",
       "\n",
       "       LanguageWorkedWith  LanguageDesireNextYear  MiscTechWorkedWith  \\\n",
       "7                      15                      10                   2   \n",
       "9                       7                       7                  10   \n",
       "10                      3                       6                   9   \n",
       "11                      7                       7                   0   \n",
       "13                      7                       7                   9   \n",
       "...                   ...                     ...                 ...   \n",
       "62212                   3                       0                   0   \n",
       "63083                   7                       7                   1   \n",
       "63402                   1                       1                   1   \n",
       "63517                   0                       6                  10   \n",
       "63955                   7                      23                   5   \n",
       "\n",
       "       MiscTechDesireNextYear  UndergradMajor  \n",
       "7                          16               1  \n",
       "9                          10               6  \n",
       "10                          9               1  \n",
       "11                          0               6  \n",
       "13                          9               1  \n",
       "...                       ...             ...  \n",
       "62212                       0               0  \n",
       "63083                       9               1  \n",
       "63402                      13               1  \n",
       "63517                       9               1  \n",
       "63955                       5               1  \n",
       "\n",
       "[17651 rows x 12 columns]"
      ]
     },
     "execution_count": 37,
     "metadata": {},
     "output_type": "execute_result"
    }
   ],
   "source": [
    "x"
   ]
  },
  {
   "cell_type": "code",
   "execution_count": 38,
   "id": "879f8390",
   "metadata": {},
   "outputs": [
    {
     "data": {
      "text/plain": [
       "7        116000.0\n",
       "9         32315.0\n",
       "10        40070.0\n",
       "11        14268.0\n",
       "13        66000.0\n",
       "           ...   \n",
       "62212     38724.0\n",
       "63083     45600.0\n",
       "63402     74500.0\n",
       "63517     59454.0\n",
       "63955      9612.0\n",
       "Name: Salary, Length: 17651, dtype: float64"
      ]
     },
     "execution_count": 38,
     "metadata": {},
     "output_type": "execute_result"
    }
   ],
   "source": [
    "y"
   ]
  },
  {
   "cell_type": "code",
   "execution_count": 39,
   "id": "1d0c83e6",
   "metadata": {},
   "outputs": [
    {
     "data": {
      "text/html": [
       "<style>#sk-container-id-1 {color: black;background-color: white;}#sk-container-id-1 pre{padding: 0;}#sk-container-id-1 div.sk-toggleable {background-color: white;}#sk-container-id-1 label.sk-toggleable__label {cursor: pointer;display: block;width: 100%;margin-bottom: 0;padding: 0.3em;box-sizing: border-box;text-align: center;}#sk-container-id-1 label.sk-toggleable__label-arrow:before {content: \"▸\";float: left;margin-right: 0.25em;color: #696969;}#sk-container-id-1 label.sk-toggleable__label-arrow:hover:before {color: black;}#sk-container-id-1 div.sk-estimator:hover label.sk-toggleable__label-arrow:before {color: black;}#sk-container-id-1 div.sk-toggleable__content {max-height: 0;max-width: 0;overflow: hidden;text-align: left;background-color: #f0f8ff;}#sk-container-id-1 div.sk-toggleable__content pre {margin: 0.2em;color: black;border-radius: 0.25em;background-color: #f0f8ff;}#sk-container-id-1 input.sk-toggleable__control:checked~div.sk-toggleable__content {max-height: 200px;max-width: 100%;overflow: auto;}#sk-container-id-1 input.sk-toggleable__control:checked~label.sk-toggleable__label-arrow:before {content: \"▾\";}#sk-container-id-1 div.sk-estimator input.sk-toggleable__control:checked~label.sk-toggleable__label {background-color: #d4ebff;}#sk-container-id-1 div.sk-label input.sk-toggleable__control:checked~label.sk-toggleable__label {background-color: #d4ebff;}#sk-container-id-1 input.sk-hidden--visually {border: 0;clip: rect(1px 1px 1px 1px);clip: rect(1px, 1px, 1px, 1px);height: 1px;margin: -1px;overflow: hidden;padding: 0;position: absolute;width: 1px;}#sk-container-id-1 div.sk-estimator {font-family: monospace;background-color: #f0f8ff;border: 1px dotted black;border-radius: 0.25em;box-sizing: border-box;margin-bottom: 0.5em;}#sk-container-id-1 div.sk-estimator:hover {background-color: #d4ebff;}#sk-container-id-1 div.sk-parallel-item::after {content: \"\";width: 100%;border-bottom: 1px solid gray;flex-grow: 1;}#sk-container-id-1 div.sk-label:hover label.sk-toggleable__label {background-color: #d4ebff;}#sk-container-id-1 div.sk-serial::before {content: \"\";position: absolute;border-left: 1px solid gray;box-sizing: border-box;top: 0;bottom: 0;left: 50%;z-index: 0;}#sk-container-id-1 div.sk-serial {display: flex;flex-direction: column;align-items: center;background-color: white;padding-right: 0.2em;padding-left: 0.2em;position: relative;}#sk-container-id-1 div.sk-item {position: relative;z-index: 1;}#sk-container-id-1 div.sk-parallel {display: flex;align-items: stretch;justify-content: center;background-color: white;position: relative;}#sk-container-id-1 div.sk-item::before, #sk-container-id-1 div.sk-parallel-item::before {content: \"\";position: absolute;border-left: 1px solid gray;box-sizing: border-box;top: 0;bottom: 0;left: 50%;z-index: -1;}#sk-container-id-1 div.sk-parallel-item {display: flex;flex-direction: column;z-index: 1;position: relative;background-color: white;}#sk-container-id-1 div.sk-parallel-item:first-child::after {align-self: flex-end;width: 50%;}#sk-container-id-1 div.sk-parallel-item:last-child::after {align-self: flex-start;width: 50%;}#sk-container-id-1 div.sk-parallel-item:only-child::after {width: 0;}#sk-container-id-1 div.sk-dashed-wrapped {border: 1px dashed gray;margin: 0 0.4em 0.5em 0.4em;box-sizing: border-box;padding-bottom: 0.4em;background-color: white;}#sk-container-id-1 div.sk-label label {font-family: monospace;font-weight: bold;display: inline-block;line-height: 1.2em;}#sk-container-id-1 div.sk-label-container {text-align: center;}#sk-container-id-1 div.sk-container {/* jupyter's `normalize.less` sets `[hidden] { display: none; }` but bootstrap.min.css set `[hidden] { display: none !important; }` so we also need the `!important` here to be able to override the default hidden behavior on the sphinx rendered scikit-learn.org. See: https://github.com/scikit-learn/scikit-learn/issues/21755 */display: inline-block !important;position: relative;}#sk-container-id-1 div.sk-text-repr-fallback {display: none;}</style><div id=\"sk-container-id-1\" class=\"sk-top-container\"><div class=\"sk-text-repr-fallback\"><pre>DecisionTreeRegressor(random_state=0)</pre><b>In a Jupyter environment, please rerun this cell to show the HTML representation or trust the notebook. <br />On GitHub, the HTML representation is unable to render, please try loading this page with nbviewer.org.</b></div><div class=\"sk-container\" hidden><div class=\"sk-item\"><div class=\"sk-estimator sk-toggleable\"><input class=\"sk-toggleable__control sk-hidden--visually\" id=\"sk-estimator-id-1\" type=\"checkbox\" checked><label for=\"sk-estimator-id-1\" class=\"sk-toggleable__label sk-toggleable__label-arrow\">DecisionTreeRegressor</label><div class=\"sk-toggleable__content\"><pre>DecisionTreeRegressor(random_state=0)</pre></div></div></div></div></div>"
      ],
      "text/plain": [
       "DecisionTreeRegressor(random_state=0)"
      ]
     },
     "execution_count": 39,
     "metadata": {},
     "output_type": "execute_result"
    }
   ],
   "source": [
    "from sklearn.tree import DecisionTreeRegressor\n",
    "dec_tree_reg = DecisionTreeRegressor(random_state=0)\n",
    "dec_tree_reg.fit(x, y.values)"
   ]
  },
  {
   "cell_type": "code",
   "execution_count": 40,
   "id": "c2ef2af0",
   "metadata": {},
   "outputs": [],
   "source": [
    "y_pred = dec_tree_reg.predict(x)"
   ]
  },
  {
   "cell_type": "code",
   "execution_count": 41,
   "id": "603c4b86",
   "metadata": {},
   "outputs": [],
   "source": [
    "from sklearn.metrics import mean_squared_error, mean_absolute_error"
   ]
  },
  {
   "cell_type": "code",
   "execution_count": 42,
   "id": "9f83be82",
   "metadata": {},
   "outputs": [
    {
     "data": {
      "text/plain": [
       "9621.734786299057"
      ]
     },
     "execution_count": 42,
     "metadata": {},
     "output_type": "execute_result"
    }
   ],
   "source": [
    "error = np.sqrt(mean_squared_error(y, y_pred))\n",
    "error"
   ]
  },
  {
   "cell_type": "code",
   "execution_count": 43,
   "id": "0d40c307",
   "metadata": {},
   "outputs": [
    {
     "data": {
      "text/plain": [
       "{0, 1, 2, 3, 4, 5, 6, 7, 8, 9, 10, 11, 12}"
      ]
     },
     "execution_count": 43,
     "metadata": {},
     "output_type": "execute_result"
    }
   ],
   "source": [
    "reduct"
   ]
  },
  {
   "cell_type": "code",
   "execution_count": 44,
   "id": "799abebe",
   "metadata": {},
   "outputs": [],
   "source": [
    "r = [0, 1, 2, 3, 4, 5, 6, 7, 8, 9, 10, 11, 12]"
   ]
  },
  {
   "cell_type": "code",
   "execution_count": 45,
   "id": "43050074",
   "metadata": {},
   "outputs": [
    {
     "data": {
      "text/plain": [
       "Index(['Age', 'Age1stCode', 'CompFreq', 'Salary', 'Country', 'EdLevel',\n",
       "       'Employment', 'Gender', 'LanguageWorkedWith', 'LanguageDesireNextYear',\n",
       "       'MiscTechWorkedWith', 'MiscTechDesireNextYear', 'UndergradMajor'],\n",
       "      dtype='object')"
      ]
     },
     "execution_count": 45,
     "metadata": {},
     "output_type": "execute_result"
    }
   ],
   "source": [
    "df.columns[r]"
   ]
  },
  {
   "cell_type": "code",
   "execution_count": 46,
   "id": "13b318b0",
   "metadata": {},
   "outputs": [
    {
     "data": {
      "text/plain": [
       "array([0, 2, 1])"
      ]
     },
     "execution_count": 46,
     "metadata": {},
     "output_type": "execute_result"
    }
   ],
   "source": [
    "df['Employment'].unique()"
   ]
  },
  {
   "cell_type": "code",
   "execution_count": 47,
   "id": "2a50209a",
   "metadata": {},
   "outputs": [
    {
     "data": {
      "text/plain": [
       "array([['25', '18', 'Yearly', 'India', 'Bachelor’s degree',\n",
       "        'Employed full-time', 'Man', 'Python', 'HTML/CSS', '.NET',\n",
       "        'React Native', 'Computer science']], dtype='<U18')"
      ]
     },
     "execution_count": 47,
     "metadata": {},
     "output_type": "execute_result"
    }
   ],
   "source": [
    "z = np.array([[25, 18, \"Yearly\", \"India\", \"Bachelor’s degree\", \n",
    "               \"Employed full-time\", \"Man\", \"Python\", \"HTML/CSS\", \".NET\", \n",
    "               \"React Native\", \"Computer science\"]])\n",
    "z"
   ]
  },
  {
   "cell_type": "code",
   "execution_count": 48,
   "id": "93a9c995",
   "metadata": {
    "scrolled": true
   },
   "outputs": [
    {
     "data": {
      "text/plain": [
       "array([[11,  8,  2,  5,  0,  0,  0, 15,  7,  0, 12,  1]])"
      ]
     },
     "execution_count": 48,
     "metadata": {},
     "output_type": "execute_result"
    }
   ],
   "source": [
    "z[:, 0] = le_age.transform(z[:,0])\n",
    "z[:, 1] = le_age1.transform(z[:,1])\n",
    "z[:, 2] = le_freq.transform(z[:,2])\n",
    "z[:, 3] = le_country.transform(z[:,3])\n",
    "z[:, 4] = le_ed.transform(z[:,4])\n",
    "z[:, 5] = le_employ.transform(z[:,5])\n",
    "z[:, 6] = le_gender.transform(z[:,6])\n",
    "z[:, 7] = le_lww.transform(z[:,7])\n",
    "z[:, 8] = le_ld.transform(z[:,8])\n",
    "z[:, 9] = le_mt.transform(z[:,9])\n",
    "z[:, 10] = le_mtd.transform(z[:,10])\n",
    "z[:, 11] = le_ug.transform(z[:,11])\n",
    "z = z.astype(int)\n",
    "z"
   ]
  },
  {
   "cell_type": "code",
   "execution_count": 49,
   "id": "208b57b0",
   "metadata": {},
   "outputs": [
    {
     "name": "stderr",
     "output_type": "stream",
     "text": [
      "C:\\Users\\anany\\AppData\\Local\\Packages\\PythonSoftwareFoundation.Python.3.9_qbz5n2kfra8p0\\LocalCache\\local-packages\\Python39\\site-packages\\sklearn\\base.py:439: UserWarning: X does not have valid feature names, but DecisionTreeRegressor was fitted with feature names\n",
      "  warnings.warn(\n"
     ]
    },
    {
     "data": {
      "text/plain": [
       "array([27923.])"
      ]
     },
     "execution_count": 49,
     "metadata": {},
     "output_type": "execute_result"
    }
   ],
   "source": [
    "y_pred = dec_tree_reg.predict(z)\n",
    "y_pred"
   ]
  },
  {
   "cell_type": "code",
   "execution_count": 50,
   "id": "4b13aa8f",
   "metadata": {},
   "outputs": [],
   "source": [
    "import pickle"
   ]
  },
  {
   "cell_type": "code",
   "execution_count": 51,
   "id": "51a54630",
   "metadata": {},
   "outputs": [],
   "source": [
    "data = {\"model\": dec_tree_reg, \"le_age\" : le_age, \"le_age1\" : le_age1, \"le_freq\" : le_freq, \"le_country\" : \n",
    "        le_country, \"le_ed\" : le_ed, \"le_employ\" : le_employ, \"le_gender\" : le_gender, \"le_lww\" : le_lww, \"le_ld\" : \n",
    "        le_ld, \"le_mt\" : le_mt, \"le_mtd\" : le_mtd, \"le_ug\" : le_ug}\n",
    "with open('saved_steps.pkl', 'wb') as file:\n",
    "    pickle.dump(data, file)"
   ]
  },
  {
   "cell_type": "code",
   "execution_count": 52,
   "id": "4f742245",
   "metadata": {},
   "outputs": [],
   "source": [
    "with open('saved_steps.pkl', 'rb') as file:\n",
    "    data = pickle.load(file)\n",
    "\n",
    "regressor_loaded = data[\"model\"]\n",
    "le_age = data[\"le_age\"]\n",
    "le_age1 = data[\"le_age1\"]\n",
    "le_freq = data[\"le_freq\"]\n",
    "le_country = data[\"le_country\"]\n",
    "le_ed = data[\"le_ed\"]\n",
    "le_employ = data[\"le_employ\"]\n",
    "le_gender = data[\"le_gender\"]\n",
    "le_lww = data[\"le_lww\"]\n",
    "le_ld = data[\"le_ld\"]\n",
    "le_mt = data[\"le_mt\"]\n",
    "le_mtd = data[\"le_mtd\"]\n",
    "le_ug = data[\"le_ug\"]"
   ]
  },
  {
   "cell_type": "code",
   "execution_count": 53,
   "id": "4663d12e",
   "metadata": {},
   "outputs": [
    {
     "data": {
      "text/plain": [
       "array([116000.,  32315.,  40070., ...,  74500.,  59454.,   9612.])"
      ]
     },
     "execution_count": 53,
     "metadata": {},
     "output_type": "execute_result"
    }
   ],
   "source": [
    "y_pred = regressor_loaded.predict(x)\n",
    "y_pred"
   ]
  },
  {
   "cell_type": "code",
   "execution_count": 54,
   "id": "14e24ad5",
   "metadata": {},
   "outputs": [
    {
     "name": "stderr",
     "output_type": "stream",
     "text": [
      "C:\\Users\\anany\\AppData\\Local\\Packages\\PythonSoftwareFoundation.Python.3.9_qbz5n2kfra8p0\\LocalCache\\local-packages\\Python39\\site-packages\\sklearn\\base.py:439: UserWarning: X does not have valid feature names, but DecisionTreeRegressor was fitted with feature names\n",
      "  warnings.warn(\n"
     ]
    },
    {
     "data": {
      "text/plain": [
       "array([27923.])"
      ]
     },
     "execution_count": 54,
     "metadata": {},
     "output_type": "execute_result"
    }
   ],
   "source": [
    "y_pred = regressor_loaded.predict(z)\n",
    "y_pred"
   ]
  },
  {
   "cell_type": "code",
   "execution_count": null,
   "id": "434ec0b6",
   "metadata": {},
   "outputs": [],
   "source": []
  },
  {
   "cell_type": "code",
   "execution_count": null,
   "id": "374cca07",
   "metadata": {},
   "outputs": [],
   "source": []
  }
 ],
 "metadata": {
  "kernelspec": {
   "display_name": "Python 3 (ipykernel)",
   "language": "python",
   "name": "python3"
  },
  "language_info": {
   "codemirror_mode": {
    "name": "ipython",
    "version": 3
   },
   "file_extension": ".py",
   "mimetype": "text/x-python",
   "name": "python",
   "nbconvert_exporter": "python",
   "pygments_lexer": "ipython3",
   "version": "3.9.13"
  }
 },
 "nbformat": 4,
 "nbformat_minor": 5
}
